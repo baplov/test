{
    "nbformat": 4, 
    "cells": [
        {
            "cell_type": "code", 
            "metadata": {
                "collapsed": true
            }, 
            "execution_count": null, 
            "source": "import pandas as pd\nimport numpy as np", 
            "outputs": []
        }, 
        {
            "cell_type": "code", 
            "metadata": {
                "collapsed": false
            }, 
            "execution_count": null, 
            "source": "# TIMES\nrng = pd.date_range('2016 Jul 1', periods = 10, freq = 'D')\nrng", 
            "outputs": []
        }, 
        {
            "cell_type": "code", 
            "metadata": {
                "collapsed": true
            }, 
            "execution_count": null, 
            "source": "# Which of these formats DON'T work?\n#'2016 Jul 1', '7/1/2016', '1/7/2016', 'July 1, 2016', '2016-07-01', '2016/07/01'", 
            "outputs": []
        }, 
        {
            "cell_type": "code", 
            "metadata": {
                "collapsed": true
            }, 
            "execution_count": null, 
            "source": "# Is '7/1/2016 in January or July?", 
            "outputs": []
        }, 
        {
            "cell_type": "code", 
            "metadata": {
                "collapsed": false
            }, 
            "execution_count": null, 
            "source": "# What is the class of an individual object held in the date_range?", 
            "outputs": []
        }, 
        {
            "cell_type": "code", 
            "metadata": {
                "collapsed": false
            }, 
            "execution_count": null, 
            "source": "# TIME STAMPS VS TIME SPANS\npd.Timestamp('2016-07-10')", 
            "outputs": []
        }, 
        {
            "cell_type": "code", 
            "metadata": {
                "collapsed": false
            }, 
            "execution_count": null, 
            "source": "# You can also more details \npd.Timestamp('2016-07-10 10')", 
            "outputs": []
        }, 
        {
            "cell_type": "code", 
            "metadata": {
                "collapsed": false
            }, 
            "execution_count": null, 
            "source": "# Or even more...\npd.Timestamp('2016-07-10 10:15')", 
            "outputs": []
        }, 
        {
            "cell_type": "code", 
            "metadata": {
                "collapsed": true
            }, 
            "execution_count": null, 
            "source": "# How much detail can you add?", 
            "outputs": []
        }, 
        {
            "cell_type": "code", 
            "metadata": {
                "collapsed": false
            }, 
            "execution_count": null, 
            "source": "# What are some properties of timestamps? Try them out.\n# hint: http://pandas.pydata.org/pandas-docs/stable/timeseries.html#time-date-components\nt = pd.Timestamp('2016-07-10 10:15')", 
            "outputs": []
        }, 
        {
            "cell_type": "code", 
            "metadata": {
                "collapsed": false
            }, 
            "execution_count": null, 
            "source": "# TIME SPANS\npd.Period('2016-01')", 
            "outputs": []
        }, 
        {
            "cell_type": "code", 
            "metadata": {
                "collapsed": true
            }, 
            "execution_count": null, 
            "source": "# What's that extra info above? How does it get set?", 
            "outputs": []
        }, 
        {
            "cell_type": "code", 
            "metadata": {
                "collapsed": false
            }, 
            "execution_count": null, 
            "source": "pd.Period('2016-01-01')", 
            "outputs": []
        }, 
        {
            "cell_type": "code", 
            "metadata": {
                "collapsed": false
            }, 
            "execution_count": null, 
            "source": "pd.Period('2016-01-01 10')", 
            "outputs": []
        }, 
        {
            "cell_type": "code", 
            "metadata": {
                "collapsed": false
            }, 
            "execution_count": null, 
            "source": "pd.Period('2016-01-01 10:10')", 
            "outputs": []
        }, 
        {
            "cell_type": "code", 
            "metadata": {
                "collapsed": false
            }, 
            "execution_count": null, 
            "source": "pd.Period('2016-01-01 10:10:10')", 
            "outputs": []
        }, 
        {
            "cell_type": "code", 
            "metadata": {
                "collapsed": false
            }, 
            "execution_count": null, 
            "source": "# What's the most detailed Period you can get?", 
            "outputs": []
        }, 
        {
            "cell_type": "code", 
            "metadata": {
                "collapsed": true
            }, 
            "execution_count": null, 
            "source": "# How can you make multiple time periods? \n# Hint look for analogy with pd.date_range() above", 
            "outputs": []
        }, 
        {
            "cell_type": "code", 
            "metadata": {
                "collapsed": false
            }, 
            "execution_count": null, 
            "source": "# TIME OFFSETS\npd.Timedelta('1 day')", 
            "outputs": []
        }, 
        {
            "cell_type": "code", 
            "metadata": {
                "collapsed": false
            }, 
            "execution_count": null, 
            "source": "pd.Period('2016-01-01 10:10') + pd.Timedelta('1 day')", 
            "outputs": []
        }, 
        {
            "cell_type": "code", 
            "metadata": {
                "collapsed": false
            }, 
            "execution_count": null, 
            "source": "pd.Timestamp('2016-01-01 10:10') + pd.Timedelta('1 day')", 
            "outputs": []
        }, 
        {
            "cell_type": "code", 
            "metadata": {
                "collapsed": false
            }, 
            "execution_count": null, 
            "source": "pd.Timestamp('2016-01-01 10:10') + pd.Timedelta('15 ns')", 
            "outputs": []
        }, 
        {
            "cell_type": "code", 
            "metadata": {
                "collapsed": false
            }, 
            "execution_count": null, 
            "source": "# FANCY FREQUENCY SETTING\n# Only want business days\npd.period_range('2016-01-01 10:10', freq = 'B', periods = 10)", 
            "outputs": []
        }, 
        {
            "cell_type": "code", 
            "metadata": {
                "collapsed": false
            }, 
            "execution_count": null, 
            "source": "# It's possible to combine frequencies. What if you want to advance by 25 hours each day. What are the 2 ways to do it?\np1 = pd.period_range('2016-01-01 10:10', freq = '25H', periods = 10)", 
            "outputs": []
        }, 
        {
            "cell_type": "code", 
            "metadata": {
                "collapsed": false
            }, 
            "execution_count": null, 
            "source": "p2 = pd.period_range('2016-01-01 10:10', freq = '1D1H', periods = 10)", 
            "outputs": []
        }, 
        {
            "cell_type": "code", 
            "metadata": {
                "collapsed": false
            }, 
            "execution_count": null, 
            "source": "p1", 
            "outputs": []
        }, 
        {
            "cell_type": "code", 
            "metadata": {
                "collapsed": false
            }, 
            "execution_count": null, 
            "source": "p2", 
            "outputs": []
        }, 
        {
            "cell_type": "code", 
            "metadata": {
                "collapsed": true
            }, 
            "execution_count": null, 
            "source": "# What are some other combos you can produce?\n# hint: http://pandas.pydata.org/pandas-docs/stable/timeseries.html#offset-aliases", 
            "outputs": []
        }, 
        {
            "cell_type": "code", 
            "metadata": {
                "collapsed": false
            }, 
            "execution_count": null, 
            "source": "# INDEXING WITH TIME OBJECTS\n# You can use these objects for indices\n# Let's start with using a date range as above\nrng = pd.date_range('2016 Jul 1', periods = 10, freq = 'D')\nrng\npd.Series(range(len(rng)), index = rng)", 
            "outputs": []
        }, 
        {
            "cell_type": "code", 
            "metadata": {
                "collapsed": false
            }, 
            "execution_count": null, 
            "source": "# You can also use time period indices, in cases where it makes more sense \n# to think about your index as a time span rather than a single point in time\n\nperiods = [pd.Period('2016-01'), pd.Period('2016-02'), pd.Period('2016-03')]\nts = pd.Series(np.random.randn(len(periods)), index = periods)\nts", 
            "outputs": []
        }, 
        {
            "cell_type": "code", 
            "metadata": {
                "collapsed": false
            }, 
            "execution_count": null, 
            "source": "# What type is the index for ts?\ntype(ts.index)", 
            "outputs": []
        }, 
        {
            "cell_type": "code", 
            "metadata": {
                "collapsed": true
            }, 
            "execution_count": null, 
            "source": "# Experiment with various indices\n# Hint: does ts['2016'] work? ", 
            "outputs": []
        }, 
        {
            "cell_type": "code", 
            "metadata": {
                "collapsed": false
            }, 
            "execution_count": null, 
            "source": "# Timestamped data can be convereted to period indices with to_period and vice versa with to_timestamp\nts = pd.Series(range(10), pd.date_range('07-10-16 8:00', periods = 10, freq = 'H'))\nts", 
            "outputs": []
        }, 
        {
            "cell_type": "code", 
            "metadata": {
                "collapsed": false
            }, 
            "execution_count": null, 
            "source": "ts_period = ts.to_period()\nts_period", 
            "outputs": []
        }, 
        {
            "cell_type": "code", 
            "metadata": {
                "collapsed": false
            }, 
            "execution_count": null, 
            "source": "ts_period['2016-07-10 08:30':'2016-07-10 11:45'] # we have the concept of overlap with time periods", 
            "outputs": []
        }, 
        {
            "cell_type": "code", 
            "metadata": {
                "collapsed": false
            }, 
            "execution_count": null, 
            "source": "ts['2016-07-10 08:30':'2016-07-10 11:45'] # we have the concept of include with timestamps", 
            "outputs": []
        }
    ], 
    "metadata": {
        "kernelspec": {
            "display_name": "Python 3.5 (Experimental) with Spark 1.6", 
            "language": "python", 
            "name": "python3"
        }, 
        "widgets": {
            "version": "1.1.1", 
            "state": {}
        }, 
        "language_info": {
            "version": "3.5.2", 
            "nbconvert_exporter": "python", 
            "codemirror_mode": {
                "version": 3, 
                "name": "ipython"
            }, 
            "mimetype": "text/x-python", 
            "file_extension": ".py", 
            "name": "python", 
            "pygments_lexer": "ipython3"
        }
    }, 
    "nbformat_minor": 0
}